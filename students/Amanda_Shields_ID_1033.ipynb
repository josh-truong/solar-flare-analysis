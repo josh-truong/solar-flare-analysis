{
  "nbformat": 4,
  "nbformat_minor": 0,
  "metadata": {
    "colab": {
      "name": "solar_flare_1",
      "provenance": [],
      "collapsed_sections": [],
      "toc_visible": true
    },
    "kernelspec": {
      "name": "python3",
      "display_name": "Python 3"
    }
  },
  "cells": [
    {
      "cell_type": "markdown",
      "metadata": {
        "id": "U8yvZDCtYeG5"
      },
      "source": [
        "# **Weeks 8 and 9: Determing total energy of your own flare**\n",
        "\n",
        "Welcome to Weeks 8 and 9! During these next two labs, you will be choosing your own flare to analyze from the Space Weather Data Portal and calculating the total energy of the flare. Your lab group has been assigned a flare class--you can find this assignment on [Canvas](https://canvas.colorado.edu/courses/64020/pages/solar-flare-class-assignments). \n",
        "\n",
        "Remember, the [X-ray flare classification](https://spaceweather.com/glossary/flareclasses.html) represents the peak irradiance of the flare (as seen for wavelengths within the 1 to 8 $Å$ range) and   includes two parts. First, a letter (A, B, C, M, and X) representing an order of magnitude of the flare, and secondly, a number (1-9) within the specified order. For example, a X3 flare has a peak irradiance of $3 × 10^{-4}$ $W/m^2$; whereas, a M3 flare has ten times lower irradiance. If the flare is larger than an X9 ($9 \\times 10^{-4} W/m^2$), then the number is extended beyond 9. For example, a X14 flare has a peak irradiance of $14 × 10^{-4} W/m^2$. \n",
        "\n",
        "Today, you will start working on five tasks. You do not have to finish today, as you will finish working on these in week 9, but **you should at least be starting the baseline correction in task 4** by the end of lab today. \n",
        "\n",
        "> (1) Go to the Space Weather Data Portal and choose a flare from the [assigned class](https://canvas.colorado.edu/courses/64020/pages/solar-flare-class-assignments). \n",
        "\n",
        "> (2) Provide a description of the flare you chose and give the flare a unique name--be creative! \n",
        "\n",
        "> (3) Download the data from the flare into a CSV file.\n",
        "\n",
        "> (4) Use a similar procedure from last weeks lab and modify the code you wrote to determine the total energy of the flare of this flare.\n",
        "\n",
        "> (5) Document your code using markdown cells and comments to explain your procedure. **Save your colab notebook file as a PDF to turn in by 11pm MT the day after your Week 9 lab.**\n",
        "\n",
        "> (6*) Bonus: If you finish, find more flares to analyze! "
      ]
    },
    {
      "cell_type": "markdown",
      "metadata": {
        "id": "LgaCcNfNRknV"
      },
      "source": [
        "# **Task 1: Find your solar flare**\n",
        "\n",
        "Go onto the [Space Weather Data Portal website](https://lasp.colorado.edu/space-weather-portal/) and follow the [tutorial posted on Canvas](https://canvas.colorado.edu/courses/64020/pages/week-8#Tutorial2) to find a flare of the assigned class type that occured during the GOES-15 satellite lifetime (April 2010 - November 2018). \n",
        "\n",
        "Choose the flares to help the research project (i.e, not flares that have been previously analyzed in the class such as the Sept. 10th, 2017 flare or the flares from the baseline correction examples colab notebook which occurred on May 5th, 2015, November 11th, 2013 and March 31st, 2011).\n",
        "\n"
      ]
    },
    {
      "cell_type": "markdown",
      "metadata": {
        "id": "Y3mEFqQ4R7cT"
      },
      "source": [
        "# **Task 2: Describe your flare**\n",
        "\n",
        "[ *Use this markdown file to name your flare and write a description of the flare. Include the date and time (in UCT) of the peak of the flare, the approximate peak height (in $W/m^2$), as well as the subclass (e.g., C5). Then, give a general description of any features of the flare that stand out to you. In particular, please discuss the circumstances of the flares occurance (e.g., was it part of a group of intense solar activitiy or an isolated flare). You may also add graphs or pictures of the flare, links to articles about the flare, etc.* ] "
      ]
    },
    {
      "cell_type": "markdown",
      "metadata": {
        "id": "49_IZBmNHqlS"
      },
      "source": [
        "The beginning of the flare is on April 17th 2017 around 2:15 pm and ends around 3:30 pm on the same day. The peak of the flare occurs at 2:28 pm on April 17th, 2017. The approximate height of the flare is 6e-5 and is in the subclass M6. There is a flat portion at the top of the curve that lasts for a couple of minutes. There is no bumbs indicating any hidden flares within this flare. The flare occurs at the end of a time period where several flares occur. This flare is the last of 6 flares in the M class during a 2 day time period. \n"
      ]
    },
    {
      "cell_type": "markdown",
      "metadata": {
        "id": "KzuRGk4ZSv8E"
      },
      "source": [
        "# **Task 3: Download the data**\n",
        "\n",
        "Download the longwave data from the Space Weather Data Portal website as a .csv file. Make sure to change the time be in ISO units."
      ]
    },
    {
      "cell_type": "markdown",
      "metadata": {
        "id": "gsRDfdNBjfNp"
      },
      "source": [
        "# **Task 4: Determine total energy of flare**\n",
        "\n",
        "Import the XRS longwave data of the solar flare you chose onto your personal computer. You can follow the same procedure that you used in the Week 5 lab.\n",
        "\n",
        "Execute the code cell below to save the data into the variable \"solar_data\". Note, you may need to change the file name to match the file you imported into this session. Additionally, if you leave this session you may need to repeat the above steps to import the file again."
      ]
    },
    {
      "cell_type": "code",
      "metadata": {
        "id": "0U_woJrZYN59",
        "outputId": "bb14d745-9af9-481e-d3ad-3b0390d72436",
        "colab": {
          "base_uri": "https://localhost:8080/",
          "height": 419
        }
      },
      "source": [
        "import pandas as pd\n",
        "\n",
        "# You will need to change the filename\n",
        "flarey = pd.read_csv('noaa_goes15_xrs_1m-3.csv')     # Import data using pandas library\n",
        "\n",
        "display(flarey)       # Display the dataframe of the solar data\n"
      ],
      "execution_count": null,
      "outputs": [
        {
          "output_type": "display_data",
          "data": {
            "text/html": [
              "<div>\n",
              "<style scoped>\n",
              "    .dataframe tbody tr th:only-of-type {\n",
              "        vertical-align: middle;\n",
              "    }\n",
              "\n",
              "    .dataframe tbody tr th {\n",
              "        vertical-align: top;\n",
              "    }\n",
              "\n",
              "    .dataframe thead th {\n",
              "        text-align: right;\n",
              "    }\n",
              "</style>\n",
              "<table border=\"1\" class=\"dataframe\">\n",
              "  <thead>\n",
              "    <tr style=\"text-align: right;\">\n",
              "      <th></th>\n",
              "      <th>time (yyyy-MM-dd'T'HH:mm:ss)</th>\n",
              "      <th>longwave (W/m^2)</th>\n",
              "    </tr>\n",
              "  </thead>\n",
              "  <tbody>\n",
              "    <tr>\n",
              "      <th>0</th>\n",
              "      <td>2017-04-03T13:30:00</td>\n",
              "      <td>0.000004</td>\n",
              "    </tr>\n",
              "    <tr>\n",
              "      <th>1</th>\n",
              "      <td>2017-04-03T13:31:00</td>\n",
              "      <td>0.000004</td>\n",
              "    </tr>\n",
              "    <tr>\n",
              "      <th>2</th>\n",
              "      <td>2017-04-03T13:32:00</td>\n",
              "      <td>0.000003</td>\n",
              "    </tr>\n",
              "    <tr>\n",
              "      <th>3</th>\n",
              "      <td>2017-04-03T13:33:00</td>\n",
              "      <td>0.000003</td>\n",
              "    </tr>\n",
              "    <tr>\n",
              "      <th>4</th>\n",
              "      <td>2017-04-03T13:34:00</td>\n",
              "      <td>0.000003</td>\n",
              "    </tr>\n",
              "    <tr>\n",
              "      <th>...</th>\n",
              "      <td>...</td>\n",
              "      <td>...</td>\n",
              "    </tr>\n",
              "    <tr>\n",
              "      <th>145</th>\n",
              "      <td>2017-04-03T15:55:00</td>\n",
              "      <td>0.000002</td>\n",
              "    </tr>\n",
              "    <tr>\n",
              "      <th>146</th>\n",
              "      <td>2017-04-03T15:56:00</td>\n",
              "      <td>0.000002</td>\n",
              "    </tr>\n",
              "    <tr>\n",
              "      <th>147</th>\n",
              "      <td>2017-04-03T15:57:00</td>\n",
              "      <td>0.000002</td>\n",
              "    </tr>\n",
              "    <tr>\n",
              "      <th>148</th>\n",
              "      <td>2017-04-03T15:58:00</td>\n",
              "      <td>0.000002</td>\n",
              "    </tr>\n",
              "    <tr>\n",
              "      <th>149</th>\n",
              "      <td>2017-04-03T15:59:00</td>\n",
              "      <td>0.000002</td>\n",
              "    </tr>\n",
              "  </tbody>\n",
              "</table>\n",
              "<p>150 rows × 2 columns</p>\n",
              "</div>"
            ],
            "text/plain": [
              "    time (yyyy-MM-dd'T'HH:mm:ss)  longwave (W/m^2)\n",
              "0            2017-04-03T13:30:00          0.000004\n",
              "1            2017-04-03T13:31:00          0.000004\n",
              "2            2017-04-03T13:32:00          0.000003\n",
              "3            2017-04-03T13:33:00          0.000003\n",
              "4            2017-04-03T13:34:00          0.000003\n",
              "..                           ...               ...\n",
              "145          2017-04-03T15:55:00          0.000002\n",
              "146          2017-04-03T15:56:00          0.000002\n",
              "147          2017-04-03T15:57:00          0.000002\n",
              "148          2017-04-03T15:58:00          0.000002\n",
              "149          2017-04-03T15:59:00          0.000002\n",
              "\n",
              "[150 rows x 2 columns]"
            ]
          },
          "metadata": {
            "tags": []
          }
        }
      ]
    },
    {
      "cell_type": "markdown",
      "metadata": {
        "id": "IMut-LToqmqi"
      },
      "source": [
        "The solar flare data is in the units of solar irradiance ($\\frac{W}{m^2}$). As you know by now, the next step is to convert to energy per second ($ergs/s$) and convert time from ISO units to seconds. \n",
        "\n",
        "You've done this multiple times before at this point, so we'll just re-use the kind of code you've previously written to do this: "
      ]
    },
    {
      "cell_type": "code",
      "metadata": {
        "id": "kFM8f17ZrBBi",
        "outputId": "87bab217-3fde-423d-ccdb-01a981ced25c",
        "colab": {
          "base_uri": "https://localhost:8080/",
          "height": 419
        }
      },
      "source": [
        "import numpy as np\n",
        "import datetime as dt\n",
        "\n",
        "# Convert df([time (yyyy-MM-dd'T'HH:mm:ss)]) into elasped time in seconds\n",
        "dates = [dt.datetime.strptime(date, '%Y-%m-%dT%H:%M:%S') for date in flarey.iloc[:,0]]\n",
        "flarey.iloc[:,0] = [(date - dates[0]).total_seconds() for date in dates]\n",
        "# Rename dataframe index\n",
        "flarey = flarey.rename(columns={'time (yyyy-MM-dd\\'T\\'HH:mm:ss)': 'time (seconds)'}) \n",
        "\n",
        "w2erg = 10**7\n",
        "int_m2 = 4*np.pi*(1.496*10**11)**2 \n",
        "# Convert units to ergs\n",
        "flarey['longwave (W/m^2)'] = flarey['longwave (W/m^2)']*w2erg*int_m2  \n",
        "# Rename dateframe    \n",
        "flarey = flarey.rename(columns={'longwave (W/m^2)': 'longwave (ergs/s)'}) \n",
        "\n",
        "display(flarey)"
      ],
      "execution_count": null,
      "outputs": [
        {
          "output_type": "display_data",
          "data": {
            "text/html": [
              "<div>\n",
              "<style scoped>\n",
              "    .dataframe tbody tr th:only-of-type {\n",
              "        vertical-align: middle;\n",
              "    }\n",
              "\n",
              "    .dataframe tbody tr th {\n",
              "        vertical-align: top;\n",
              "    }\n",
              "\n",
              "    .dataframe thead th {\n",
              "        text-align: right;\n",
              "    }\n",
              "</style>\n",
              "<table border=\"1\" class=\"dataframe\">\n",
              "  <thead>\n",
              "    <tr style=\"text-align: right;\">\n",
              "      <th></th>\n",
              "      <th>time (seconds)</th>\n",
              "      <th>longwave (ergs/s)</th>\n",
              "    </tr>\n",
              "  </thead>\n",
              "  <tbody>\n",
              "    <tr>\n",
              "      <th>0</th>\n",
              "      <td>0.0</td>\n",
              "      <td>1.060999e+25</td>\n",
              "    </tr>\n",
              "    <tr>\n",
              "      <th>1</th>\n",
              "      <td>60.0</td>\n",
              "      <td>9.946523e+24</td>\n",
              "    </tr>\n",
              "    <tr>\n",
              "      <th>2</th>\n",
              "      <td>120.0</td>\n",
              "      <td>9.411806e+24</td>\n",
              "    </tr>\n",
              "    <tr>\n",
              "      <th>3</th>\n",
              "      <td>180.0</td>\n",
              "      <td>8.998359e+24</td>\n",
              "    </tr>\n",
              "    <tr>\n",
              "      <th>4</th>\n",
              "      <td>240.0</td>\n",
              "      <td>8.706322e+24</td>\n",
              "    </tr>\n",
              "    <tr>\n",
              "      <th>...</th>\n",
              "      <td>...</td>\n",
              "      <td>...</td>\n",
              "    </tr>\n",
              "    <tr>\n",
              "      <th>145</th>\n",
              "      <td>8700.0</td>\n",
              "      <td>6.230758e+24</td>\n",
              "    </tr>\n",
              "    <tr>\n",
              "      <th>146</th>\n",
              "      <td>8760.0</td>\n",
              "      <td>6.082827e+24</td>\n",
              "    </tr>\n",
              "    <tr>\n",
              "      <th>147</th>\n",
              "      <td>8820.0</td>\n",
              "      <td>5.993675e+24</td>\n",
              "    </tr>\n",
              "    <tr>\n",
              "      <th>148</th>\n",
              "      <td>8880.0</td>\n",
              "      <td>5.937961e+24</td>\n",
              "    </tr>\n",
              "    <tr>\n",
              "      <th>149</th>\n",
              "      <td>8940.0</td>\n",
              "      <td>5.975366e+24</td>\n",
              "    </tr>\n",
              "  </tbody>\n",
              "</table>\n",
              "<p>150 rows × 2 columns</p>\n",
              "</div>"
            ],
            "text/plain": [
              "     time (seconds)  longwave (ergs/s)\n",
              "0               0.0       1.060999e+25\n",
              "1              60.0       9.946523e+24\n",
              "2             120.0       9.411806e+24\n",
              "3             180.0       8.998359e+24\n",
              "4             240.0       8.706322e+24\n",
              "..              ...                ...\n",
              "145          8700.0       6.230758e+24\n",
              "146          8760.0       6.082827e+24\n",
              "147          8820.0       5.993675e+24\n",
              "148          8880.0       5.937961e+24\n",
              "149          8940.0       5.975366e+24\n",
              "\n",
              "[150 rows x 2 columns]"
            ]
          },
          "metadata": {
            "tags": []
          }
        }
      ]
    },
    {
      "cell_type": "markdown",
      "metadata": {
        "id": "VlG94uDerHLr"
      },
      "source": [
        "Next, let's plot the solar flare data as energy per second ($ergs/s$) versus time ($seconds$), so that we can clearly visualize the flare. Again, we've done this before, so we can reuse code:\n",
        "\n",
        "\n"
      ]
    },
    {
      "cell_type": "code",
      "metadata": {
        "id": "o5U0iL7_rXAR",
        "outputId": "89ca439f-7ba7-4d57-9271-3d68baf61497",
        "colab": {
          "base_uri": "https://localhost:8080/",
          "height": 295
        }
      },
      "source": [
        "import matplotlib.pyplot as plt\n",
        "\n",
        "plt.plot(flarey['time (seconds)'], flarey['longwave (ergs/s)'])\n",
        "plt.ylabel('Power (ergs/s)')\n",
        "plt.xlabel('Time (s)')\n",
        "plt.title('flarey')\n",
        "\n",
        "plt.show()"
      ],
      "execution_count": null,
      "outputs": [
        {
          "output_type": "display_data",
          "data": {
            "image/png": "[encoded data removed]",
            "text/plain": [
              "<Figure size 432x288 with 1 Axes>"
            ]
          },
          "metadata": {
            "tags": [],
            "needs_background": "light"
          }
        }
      ]
    },
    {
      "cell_type": "markdown",
      "metadata": {
        "id": "MrNHESMDQNLW"
      },
      "source": [
        "## Basline correction\n",
        "\n",
        "As you learned in [Week 7 lecture](https://www.youtube.com/watch?v=XlbRg3e4T9g&feature=youtu.be), one of the primary challenges in determining the total energy of the flare is dealing with the \"background.\" The sun is giving off x-rays even before a flare happens, and we do not want to accidentally include the energy of those x-rays as part of the flare energy. As a result, we need to determine the amount of x-ray power being emitted before the flare (the \"baseline\") and subtract it from the observed power during the flare to make sure we are only determining the *new* energy created by the flare itself.\n",
        "\n",
        "Make sure your team has a clear plan for this; refer back to the Week 7 pre-lab lecture, the examples of baseline corrections on the Week 7 Canvas page, or  ask your TA if you need help! \n",
        "\n",
        "Hint:\n",
        "You will want to plot the data from the time period leading up to the flare in order to \"see\" it clearly and to decide on a strategy. For this part, we don't have to care yet about having time in seconds. In fact, it might be easier to leave time in arbitraty \"index\" units (i.e., data point 1, data point 2, data point 3, and so on). That way, it will be easy to discuss which data points you want to focus on. For example, maybe you think the pre-flare background is points 4 through 50. Then you can easily access these data points like this:\n",
        "\n",
        "`solar_data.iloc[4:50,1]`\n"
      ]
    },
    {
      "cell_type": "markdown",
      "metadata": {
        "id": "MucnLZ1A9sKY"
      },
      "source": [
        "[*Use this markdown cell to explain how you are doing the baseline correction and the reasoning behind the method you chose. Be as detailed as possible!*]\n"
      ]
    },
    {
      "cell_type": "code",
      "metadata": {
        "id": "D6pEfNoHQRh3",
        "outputId": "2f6f8115-efc6-4aaa-db30-73eb8681d5bf",
        "colab": {
          "base_uri": "https://localhost:8080/",
          "height": 590
        }
      },
      "source": [
        "# You may need the statistics library for determining means and medians\n",
        "import statistics as stats     \n",
        "\n",
        "# You will need to plot your flare (as shown in the examples of baseline corrections notebook)\n",
        "# in order to look at the pre-flare data and show the baseline corrected flare\n",
        "import matplotlib.pyplot as plt\n",
        "\n",
        "import numpy as np\n",
        "from scipy.signal import argrelextrema   # Import the argrelextrema function\n",
        "\n",
        "# Need to convert the data from a dataframe to an numpy array\n",
        "a = pd.DataFrame.to_numpy(flarey.iloc[0:25,1])\n",
        "\n",
        "# Use the argrelextrema function to find the locations (index) of the local minima\n",
        "min_locs = np.asarray(argrelextrema(a, np.less))  \n",
        "\n",
        "plt.plot(min_locs, a[min_locs], 'r.') # Plot mimina as red dots\n",
        "plt.title(\" Pre-Flare flarey Minimums\")\n",
        "plt.ylabel(\"Power (ergs/s)\")\n",
        "plt.xlabel(\"Time (s)\")\n",
        "plt.plot(flarey.iloc[0:25,1]) # Plot pre-flare data\n",
        "plt.show()\n",
        "\n",
        "plt.plot(flarey.iloc[0:25,1])   # Zoom in on data before the flare begins\n",
        "plt.title(\"Pre-flare flarey Baseline\")\n",
        "plt.ylabel(\"Power (ergs/s)\")\n",
        "plt.xlabel(\"Time (s)\")\n",
        "\n",
        "# Take the average\n",
        "avg_baseline_Flare = a[min_locs].mean()\n",
        "\n",
        "x_coordinates = [0,25] #plots x coords from 0 to 50\n",
        "y_coordinates = [avg_baseline_Flare, avg_baseline_Flare]\n",
        "plt.plot(x_coordinates, y_coordinates, 'r--')\n",
        "#plots the function in ergs/s \n",
        "plt.show()\n",
        "\n",
        "print(avg_baseline_Flare)"
      ],
      "execution_count": null,
      "outputs": [
        {
          "output_type": "display_data",
          "data": {
            "image/png": "[encoded data removed]",
            "text/plain": [
              "<Figure size 432x288 with 1 Axes>"
            ]
          },
          "metadata": {
            "tags": [],
            "needs_background": "light"
          }
        },
        {
          "output_type": "display_data",
          "data": {
            "image/png": "[encoded data removed]",
            "text/plain": [
              "<Figure size 432x288 with 1 Axes>"
            ]
          },
          "metadata": {
            "tags": [],
            "needs_background": "light"
          }
        },
        {
          "output_type": "stream",
          "text": [
            "8.411331955009077e+24\n"
          ],
          "name": "stdout"
        }
      ]
    },
    {
      "cell_type": "markdown",
      "metadata": {
        "id": "cXwwc4c8Rovi"
      },
      "source": [
        "## Reporting total energy"
      ]
    },
    {
      "cell_type": "markdown",
      "metadata": {
        "id": "sSpQCjBvFGVh"
      },
      "source": [
        "Once you have determined the baseline and subtracted this \"background,\" you are ready to determine the total flare energy. Last week, we did this for a practice flare using a function we called `integrate.trapz`. Use this same function to compute the total energy of your new flare, referring back to your work last week if you need to.\n",
        "\n",
        "Note: As several of our teams learned last week, this function is a little tricky! Make sure to use the appropiate limits for integration by indexing the `x` and `y` variables. You also have to tell it both the y-data AND the x-data to get the integration right (by default, it integrates assuming the x-coordinates are 1, 2, 3, 4, etc.) Be careful with that this week!\n"
      ]
    },
    {
      "cell_type": "markdown",
      "metadata": {
        "id": "NkW2VlIV6yRn"
      },
      "source": [
        "[*Use this markdown cell to describe how you are computing the total energy produced by the flare.*] "
      ]
    },
    {
      "cell_type": "code",
      "metadata": {
        "id": "AO_MxInxGGn_",
        "outputId": "11ebb078-c7af-4077-ea23-47aacf7112b4",
        "colab": {
          "base_uri": "https://localhost:8080/",
          "height": 295
        }
      },
      "source": [
        "#Best Starting Spot for Flarey\n",
        "import matplotlib.pyplot as plt\n",
        "\n",
        "plt.plot(flarey.iloc[40:60,1], '.-')\n",
        "plt.title(\"Flarey Start\")\n",
        "plt.ylabel(\"Power (ergs/s)\")\n",
        "plt.xlabel(\"Time (s)\")\n",
        "plt.show()"
      ],
      "execution_count": null,
      "outputs": [
        {
          "output_type": "display_data",
          "data": {
            "image/png": "[encoded data removed]",
            "text/plain": [
              "<Figure size 432x288 with 1 Axes>"
            ]
          },
          "metadata": {
            "tags": [],
            "needs_background": "light"
          }
        }
      ]
    },
    {
      "cell_type": "code",
      "metadata": {
        "id": "wURiE2BoR2fg",
        "outputId": "d58010fd-ba15-4e51-c223-008f1411f5b8",
        "colab": {
          "base_uri": "https://localhost:8080/",
          "height": 51
        }
      },
      "source": [
        "#Import the integrate function; we will use trapezoidal integradion ('integreat.trapz')\n",
        "\n",
        "import scipy.integrate as integrate #imports scripy\n",
        "\n",
        "baseline_correction_Flare = flarey.iloc[50:150,1].subtract(avg_baseline_Flare) \n",
        "#subtracts the baseline correction from the solar flare data\n",
        "\n",
        "A_Flareblc = integrate.trapz(baseline_correction_Flare, flarey.iloc[50:150,0])\n",
        "#integrates the flare from the starting point of 140 until the end    \n",
        "\n",
        "print('\\n Total area under the flarey curve using local minima method: ', A_Flareblc, ' ergs')\n",
        "#prints the total energy under the curve"
      ],
      "execution_count": null,
      "outputs": [
        {
          "output_type": "stream",
          "text": [
            "\n",
            " Total area under the flarey curve using local minima method:  9.202854924372242e+28  ergs\n"
          ],
          "name": "stdout"
        }
      ]
    },
    {
      "cell_type": "markdown",
      "metadata": {
        "id": "9ikX-w_iQlj1"
      },
      "source": [
        "\n",
        "\n",
        "Note! As you may know, every measurement in experimental physics is subject to some  ***uncertainty***. The flare energy is no different-- we don't have time to figure out the uncertainty this week, but we will definitely need to do that before reporting out final results."
      ]
    },
    {
      "cell_type": "markdown",
      "metadata": {
        "id": "gPt7cY5srceC"
      },
      "source": [
        "# **Task 5: Comment, save, and submit**\n",
        "\n",
        "* Comment your code.\n",
        "\n",
        "* Double-check all your code cells have been executed. \n",
        "\n",
        "* Save this file as a PDF, click Print. In the printer dialog box select \"Save as PDF\" as your destination and click \"Save\".  \n",
        "\n",
        "* Double-check that you can see all of the executed code cells, tables, and graphs in the PDF. **IF YOU ARE HAVING TROUBLE PRINTING TO A PDF, PLEASE RUN THE CODE CELL AT THE END OF THE COLAB NOTEBOOK.**\n",
        "\n",
        "* In this Goolge Colab notebook, click on \"Share\" in the upper right-hand corner of the window. \n",
        "\n",
        "<img src=https://i.pinimg.com/originals/8f/c5/ee/8fc5ee91627c0353febe142ff9adde82.png\n",
        " width=\"250\">   \n",
        "\n",
        "* Under \"Get Link\" click on \"Change\". Change the \"Share\" settings so that anyone with the link and be a commenter. \n",
        "\n",
        " <img src=https://i.pinimg.com/originals/83/d5/a0/83d5a060a21b96208814e85a6761693a.png\n",
        " width=\"500\">\n",
        "\n",
        " <img src=https://i.pinimg.com/originals/66/5e/94/665e943a4a0ee20a965f6c89b86f6e47.png\n",
        " width=\"300\">\n",
        "\n",
        "* In Canvas, upload the PDF file as an assignment and copy and paste the link to this notebook as the comment.\n"
      ]
    },
    {
      "cell_type": "markdown",
      "metadata": {
        "id": "ogHNb_Q-Qeur"
      },
      "source": [
        "## Need help converting your colab notebook to a PDF?\n",
        "\n",
        "The following code cell will covert your colab notebook to a PDF. \n",
        "\n",
        ">(1) You will need to first **change the filename** to the name the colab notebook you would like to convert. For example, your colab file for Week 8 and 9 is likely to be called `'Week8and9_DetermingTotalEnergyofFlare.ipynb'`. \n",
        "\n",
        "> (2) You will need to mount your google drive. If your drive is not mounted already, the code cell will prompt you with the steps to do this as it runs.\n",
        "\n",
        "> (3) The PDF will be saved to the same folder as this code cell. You can then download the PDF from google drive and upload it onto Canvas.\n",
        "\n",
        "> (4) If you run into an error saying that the \"list index is out of range\" try two fixes:\n",
        ">> - First, make sure your filename is correct\n",
        ">> - Move your Colab notebook into the main area of the drive instead of having it in a folder."
      ]
    },
    {
      "cell_type": "code",
      "metadata": {
        "id": "oxsMlooyQfkc"
      },
      "source": [
        "################################################################################\n",
        "#                    CODE TO CONVERT COLAB NOTEBOOK TO PDF                     #\n",
        "#This code converts an .ipynb file to a Tex based PDF and saves it in the Colab#\n",
        "#Notebook folder with the same filename.pdf                                    #\n",
        "################################################################################\n",
        "\n",
        "# Please change the file name to the name of your colab notebook\n",
        "filename = 'solar_flare_1' # Ex. 'Coding_Packet.ipynb'\n",
        "\n",
        "from google.colab import drive\n",
        "drive.mount('solar_flare_1', force_remount = True) # This is done first-\n",
        "#- because we need a temporal delay between mounting and calling\n",
        "#Install some dependences into the RUNTIME (is not local, needs to reinstall-\n",
        "#- every runtime)\n",
        "!echo 'Installing pips. This may take a few minutes.'\n",
        "!pip install IPython >> outputsuppressed.txt\n",
        "!pip install Latex >> outputsuppressed.txt\n",
        "!pip install pandoc >> outputsuppressed.txt\n",
        "!pip install nbconvert >> outputsuppressed.txt\n",
        "!pip install jupyter >> outputsuppressed.txt\n",
        "\n",
        "#Well known Ubuntu Tex library\n",
        "!apt-get install texlive-xetex texlive-fonts-recommended texlive-generic-recommended >> outputsuppressed.txt\n",
        "\n",
        "# Searches the Google drive directory for the filename and gives back it's location\n",
        "#(This accounts for Wildcards and Spaces in the directory names)\n",
        "#Uses jupyter and nbconvert to convert the ipynb file to a Tex file, then into a\n",
        "#pdf\n",
        "\n",
        "!IFS=$'\\n' #Sets the reader to only break at newlines instead of spaces,tabs,and newlines\n",
        "!echo 'Finding file. This may take a minute or two depending on the size of your drive'\n",
        "loc= !find '/content/gdrive' -name \"{filename}\"\n",
        "fileloc = loc[0]\n",
        "!jupyter nbconvert --to pdf \"{fileloc}\"\n",
        "\n",
        "from datetime import datetime\n",
        "import random \n",
        "now = datetime.now()\n",
        "print('\\n', now.strftime(\"%d/%m/%Y %H:%M:%S\"), random.randrange(1000000, 9999999, 1))\n",
        "\n",
        "# The PDF will be in the same folder as the original file\n",
        "!echo \"\";echo \"Conversion Complete. The pdf will be in the same location as your .ipynb file\";echo \"\";echo \"Have a Nice Day!\"\n",
        "\n",
        "############ Version:\n",
        "# Created by Thomas Horning\n",
        "# Last Update: 2020-09-25, 12:49 pm - Thomas Horning\n",
        "#  - Moved Dev Notes to Markdown Cell\n",
        "#  - Created Version Log\n",
        "#  - Added completion response \n",
        "\n",
        "##"
      ],
      "execution_count": null,
      "outputs": []
    },
    {
      "cell_type": "markdown",
      "metadata": {
        "id": "ENkEMvazTesz"
      },
      "source": [
        "## **Task 6*: Find more flares!**\n",
        "\n",
        "If time allows, choose another flare from C through X class! Follow the same procedure from above to report the total energy of the flare.\n",
        "\n",
        "As before, make sure to provide a detailed description of the flares, which includes the date and time (in UCT) of the peak of the flare, as well as the subclass (e.g., C5.3) and other descriptive information. "
      ]
    }
  ]
}