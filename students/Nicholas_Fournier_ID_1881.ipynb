{
  "nbformat": 4,
  "nbformat_minor": 0,
  "metadata": {
    "colab": {
      "name": "Week8and9_DetermingTotalEnergyofFlare(1)PartTwo.ipynb",
      "provenance": [],
      "collapsed_sections": [],
      "toc_visible": true
    },
    "kernelspec": {
      "name": "python3",
      "display_name": "Python 3"
    }
  },
  "cells": [
    {
      "cell_type": "markdown",
      "metadata": {
        "id": "U8yvZDCtYeG5"
      },
      "source": [
        "# **Weeks 8 and 9: Determing total energy of your own flare**\n",
        "\n",
        "Welcome to Weeks 8 and 9! During these next two labs, you will be choosing your own flare to analyze from the Space Weather Data Portal and calculating the total energy of the flare. Your lab group has been assigned a flare class--you can find this assignment on [Canvas](https://canvas.colorado.edu/courses/64020/pages/solar-flare-class-assignments). \n",
        "\n",
        "Remember, the [X-ray flare classification](https://spaceweather.com/glossary/flareclasses.html) represents the peak irradiance of the flare (as seen for wavelengths within the 1 to 8 $Å$ range) and   includes two parts. First, a letter (A, B, C, M, and X) representing an order of magnitude of the flare, and secondly, a number (1-9) within the specified order. For example, a X3 flare has a peak irradiance of $3 × 10^{-4}$ $W/m^2$; whereas, a M3 flare has ten times lower irradiance. If the flare is larger than an X9 ($9 \\times 10^{-4} W/m^2$), then the number is extended beyond 9. For example, a X14 flare has a peak irradiance of $14 × 10^{-4} W/m^2$. \n",
        "\n",
        "Today, you will start working on five tasks. You do not have to finish today, as you will finish working on these in week 9, but **you should at least be starting the baseline correction in task 4** by the end of lab today. \n",
        "\n",
        "> (1) Go to the Space Weather Data Portal and choose a flare from the [assigned class](https://canvas.colorado.edu/courses/64020/pages/solar-flare-class-assignments). \n",
        "\n",
        "> (2) Provide a description of the flare you chose and give the flare a unique name--be creative! \n",
        "\n",
        "> (3) Download the data from the flare into a CSV file.\n",
        "\n",
        "> (4) Use a similar procedure from last weeks lab and modify the code you wrote to determine the total energy of the flare of this flare.\n",
        "\n",
        "> (5) Document your code using markdown cells and comments to explain your procedure. **Save your colab notebook file as a PDF to turn in by 11pm MT the day after your Week 9 lab.**\n",
        "\n",
        "> (6*) Bonus: If you finish, find more flares to analyze! "
      ]
    },
    {
      "cell_type": "markdown",
      "metadata": {
        "id": "LgaCcNfNRknV"
      },
      "source": [
        "# **Task 1: Find your solar flare**\n",
        "\n",
        "Go onto the [Space Weather Data Portal website](https://lasp.colorado.edu/space-weather-portal/) and follow the [tutorial posted on Canvas](https://canvas.colorado.edu/courses/64020/pages/week-8#Tutorial2) to find a flare of the assigned class type that occured during the GOES-15 satellite lifetime (April 2010 - November 2018). \n",
        "\n",
        "Choose the flares to help the research project (i.e, not flares that have been previously analyzed in the class such as the Sept. 10th, 2017 flare or the flares from the baseline correction examples colab notebook which occurred on May 5th, 2015, November 11th, 2013 and March 31st, 2011).\n",
        "\n"
      ]
    },
    {
      "cell_type": "markdown",
      "metadata": {
        "id": "Y3mEFqQ4R7cT"
      },
      "source": [
        "# **Task 2: Describe your flare**\n",
        "\n",
        "[ *Use this markdown file to name your flare and write a description of the flare. Include the date and time (in UCT) of the peak of the flare, the approximate peak height (in $W/m^2$), as well as the subclass (e.g., C5). Then, give a general description of any features of the flare that stand out to you. In particular, please discuss the circumstances of the flares occurance (e.g., was it part of a group of intense solar activitiy or an isolated flare). You may also add graphs or pictures of the flare, links to articles about the flare, etc.* ] "
      ]
    },
    {
      "cell_type": "markdown",
      "metadata": {
        "id": "UbZiTihqVuY6"
      },
      "source": [
        "This x-class flare occurred on December 20th 2017 with a maximum energy around 5.5E26 ergs.`"
      ]
    },
    {
      "cell_type": "markdown",
      "metadata": {
        "id": "KzuRGk4ZSv8E"
      },
      "source": [
        "# **Task 3: Download the data**\n",
        "\n",
        "Download the longwave data from the Space Weather Data Portal website as a .csv file. Make sure to change the time be in ISO units."
      ]
    },
    {
      "cell_type": "markdown",
      "metadata": {
        "id": "gsRDfdNBjfNp"
      },
      "source": [
        "# **Task 4: Determine total energy of flare**\n",
        "\n",
        "Import the XRS longwave data of the solar flare you chose onto your personal computer. You can follow the same procedure that you used in the Week 5 lab.\n",
        "\n",
        "Execute the code cell below to save the data into the variable \"solar_data\". Note, you may need to change the file name to match the file you imported into this session. Additionally, if you leave this session you may need to repeat the above steps to import the file again."
      ]
    },
    {
      "cell_type": "code",
      "metadata": {
        "id": "0U_woJrZYN59",
        "outputId": "7decd41c-17fa-47fc-fdaa-0a59c8805bc8",
        "colab": {
          "base_uri": "https://localhost:8080/",
          "height": 424
        }
      },
      "source": [
        "import pandas as pd\n",
        "\n",
        "# You will need to change the filename\n",
        "solar_data = pd.read_csv('dec20flare.csv')     # Import data using pandas library\n",
        "\n",
        "display(solar_data)       # Display the dataframe of the solar data\n"
      ],
      "execution_count": null,
      "outputs": [
        {
          "output_type": "display_data",
          "data": {
            "text/html": [
              "<div>\n",
              "<style scoped>\n",
              "    .dataframe tbody tr th:only-of-type {\n",
              "        vertical-align: middle;\n",
              "    }\n",
              "\n",
              "    .dataframe tbody tr th {\n",
              "        vertical-align: top;\n",
              "    }\n",
              "\n",
              "    .dataframe thead th {\n",
              "        text-align: right;\n",
              "    }\n",
              "</style>\n",
              "<table border=\"1\" class=\"dataframe\">\n",
              "  <thead>\n",
              "    <tr style=\"text-align: right;\">\n",
              "      <th></th>\n",
              "      <th>time (yyyy-MM-dd'T'HH:mm:ss)</th>\n",
              "      <th>longwave (W/m^2)</th>\n",
              "    </tr>\n",
              "  </thead>\n",
              "  <tbody>\n",
              "    <tr>\n",
              "      <th>0</th>\n",
              "      <td>2014-12-19T13:22:00</td>\n",
              "      <td>0.000002</td>\n",
              "    </tr>\n",
              "    <tr>\n",
              "      <th>1</th>\n",
              "      <td>2014-12-19T13:23:00</td>\n",
              "      <td>0.000002</td>\n",
              "    </tr>\n",
              "    <tr>\n",
              "      <th>2</th>\n",
              "      <td>2014-12-19T13:24:00</td>\n",
              "      <td>0.000002</td>\n",
              "    </tr>\n",
              "    <tr>\n",
              "      <th>3</th>\n",
              "      <td>2014-12-19T13:25:00</td>\n",
              "      <td>0.000002</td>\n",
              "    </tr>\n",
              "    <tr>\n",
              "      <th>4</th>\n",
              "      <td>2014-12-19T13:26:00</td>\n",
              "      <td>0.000002</td>\n",
              "    </tr>\n",
              "    <tr>\n",
              "      <th>...</th>\n",
              "      <td>...</td>\n",
              "      <td>...</td>\n",
              "    </tr>\n",
              "    <tr>\n",
              "      <th>1254</th>\n",
              "      <td>2014-12-20T10:16:00</td>\n",
              "      <td>0.000001</td>\n",
              "    </tr>\n",
              "    <tr>\n",
              "      <th>1255</th>\n",
              "      <td>2014-12-20T10:17:00</td>\n",
              "      <td>0.000001</td>\n",
              "    </tr>\n",
              "    <tr>\n",
              "      <th>1256</th>\n",
              "      <td>2014-12-20T10:18:00</td>\n",
              "      <td>0.000001</td>\n",
              "    </tr>\n",
              "    <tr>\n",
              "      <th>1257</th>\n",
              "      <td>2014-12-20T10:19:00</td>\n",
              "      <td>0.000001</td>\n",
              "    </tr>\n",
              "    <tr>\n",
              "      <th>1258</th>\n",
              "      <td>2014-12-20T10:20:00</td>\n",
              "      <td>0.000001</td>\n",
              "    </tr>\n",
              "  </tbody>\n",
              "</table>\n",
              "<p>1259 rows × 2 columns</p>\n",
              "</div>"
            ],
            "text/plain": [
              "     time (yyyy-MM-dd'T'HH:mm:ss)  longwave (W/m^2)\n",
              "0             2014-12-19T13:22:00          0.000002\n",
              "1             2014-12-19T13:23:00          0.000002\n",
              "2             2014-12-19T13:24:00          0.000002\n",
              "3             2014-12-19T13:25:00          0.000002\n",
              "4             2014-12-19T13:26:00          0.000002\n",
              "...                           ...               ...\n",
              "1254          2014-12-20T10:16:00          0.000001\n",
              "1255          2014-12-20T10:17:00          0.000001\n",
              "1256          2014-12-20T10:18:00          0.000001\n",
              "1257          2014-12-20T10:19:00          0.000001\n",
              "1258          2014-12-20T10:20:00          0.000001\n",
              "\n",
              "[1259 rows x 2 columns]"
            ]
          },
          "metadata": {
            "tags": []
          }
        }
      ]
    },
    {
      "cell_type": "markdown",
      "metadata": {
        "id": "IMut-LToqmqi"
      },
      "source": [
        "The solar flare data is in the units of solar irradiance ($\\frac{W}{m^2}$). As you know by now, the next step is to convert to energy per second ($ergs/s$) and convert time from ISO units to seconds. \n",
        "\n",
        "You've done this multiple times before at this point, so we'll just re-use the kind of code you've previously written to do this: "
      ]
    },
    {
      "cell_type": "code",
      "metadata": {
        "id": "kFM8f17ZrBBi",
        "outputId": "bf2267df-cf38-49c8-c032-6860c0a28434",
        "colab": {
          "base_uri": "https://localhost:8080/",
          "height": 424
        }
      },
      "source": [
        "import numpy as np\n",
        "import datetime as dt\n",
        "\n",
        "# Convert df([time (yyyy-MM-dd'T'HH:mm:ss)]) into elasped time in seconds\n",
        "dates = [dt.datetime.strptime(date, '%Y-%m-%dT%H:%M:%S') for date in solar_data.iloc[:,0]]\n",
        "solar_data.iloc[:,0] = [(date - dates[0]).total_seconds() for date in dates]\n",
        "# Rename dataframe index\n",
        "solar_data = solar_data.rename(columns={'time (yyyy-MM-dd\\'T\\'HH:mm:ss)': 'time (seconds)'}) \n",
        "\n",
        "w2erg = 10**7\n",
        "int_m2 = 4*np.pi*(1.496*10**11)**2 \n",
        "# Convert units to ergs\n",
        "solar_data['longwave (W/m^2)'] = solar_data['longwave (W/m^2)']*w2erg*int_m2  \n",
        "# Rename dateframe    \n",
        "solar_data = solar_data.rename(columns={'longwave (W/m^2)': 'longwave (ergs/s)'}) \n",
        "\n",
        "display(solar_data)"
      ],
      "execution_count": null,
      "outputs": [
        {
          "output_type": "display_data",
          "data": {
            "text/html": [
              "<div>\n",
              "<style scoped>\n",
              "    .dataframe tbody tr th:only-of-type {\n",
              "        vertical-align: middle;\n",
              "    }\n",
              "\n",
              "    .dataframe tbody tr th {\n",
              "        vertical-align: top;\n",
              "    }\n",
              "\n",
              "    .dataframe thead th {\n",
              "        text-align: right;\n",
              "    }\n",
              "</style>\n",
              "<table border=\"1\" class=\"dataframe\">\n",
              "  <thead>\n",
              "    <tr style=\"text-align: right;\">\n",
              "      <th></th>\n",
              "      <th>time (seconds)</th>\n",
              "      <th>longwave (ergs/s)</th>\n",
              "    </tr>\n",
              "  </thead>\n",
              "  <tbody>\n",
              "    <tr>\n",
              "      <th>0</th>\n",
              "      <td>0.0</td>\n",
              "      <td>4.302932e+24</td>\n",
              "    </tr>\n",
              "    <tr>\n",
              "      <th>1</th>\n",
              "      <td>60.0</td>\n",
              "      <td>4.246685e+24</td>\n",
              "    </tr>\n",
              "    <tr>\n",
              "      <th>2</th>\n",
              "      <td>120.0</td>\n",
              "      <td>4.302932e+24</td>\n",
              "    </tr>\n",
              "    <tr>\n",
              "      <th>3</th>\n",
              "      <td>180.0</td>\n",
              "      <td>4.499798e+24</td>\n",
              "    </tr>\n",
              "    <tr>\n",
              "      <th>4</th>\n",
              "      <td>240.0</td>\n",
              "      <td>4.471674e+24</td>\n",
              "    </tr>\n",
              "    <tr>\n",
              "      <th>...</th>\n",
              "      <td>...</td>\n",
              "      <td>...</td>\n",
              "    </tr>\n",
              "    <tr>\n",
              "      <th>1254</th>\n",
              "      <td>75240.0</td>\n",
              "      <td>3.656086e+24</td>\n",
              "    </tr>\n",
              "    <tr>\n",
              "      <th>1255</th>\n",
              "      <td>75300.0</td>\n",
              "      <td>3.656086e+24</td>\n",
              "    </tr>\n",
              "    <tr>\n",
              "      <th>1256</th>\n",
              "      <td>75360.0</td>\n",
              "      <td>3.656086e+24</td>\n",
              "    </tr>\n",
              "    <tr>\n",
              "      <th>1257</th>\n",
              "      <td>75420.0</td>\n",
              "      <td>3.627962e+24</td>\n",
              "    </tr>\n",
              "    <tr>\n",
              "      <th>1258</th>\n",
              "      <td>75480.0</td>\n",
              "      <td>3.656086e+24</td>\n",
              "    </tr>\n",
              "  </tbody>\n",
              "</table>\n",
              "<p>1259 rows × 2 columns</p>\n",
              "</div>"
            ],
            "text/plain": [
              "      time (seconds)  longwave (ergs/s)\n",
              "0                0.0       4.302932e+24\n",
              "1               60.0       4.246685e+24\n",
              "2              120.0       4.302932e+24\n",
              "3              180.0       4.499798e+24\n",
              "4              240.0       4.471674e+24\n",
              "...              ...                ...\n",
              "1254         75240.0       3.656086e+24\n",
              "1255         75300.0       3.656086e+24\n",
              "1256         75360.0       3.656086e+24\n",
              "1257         75420.0       3.627962e+24\n",
              "1258         75480.0       3.656086e+24\n",
              "\n",
              "[1259 rows x 2 columns]"
            ]
          },
          "metadata": {
            "tags": []
          }
        }
      ]
    },
    {
      "cell_type": "markdown",
      "metadata": {
        "id": "VlG94uDerHLr"
      },
      "source": [
        "Next, let's plot the solar flare data as energy per second ($ergs/s$) versus time ($seconds$), so that we can clearly visualize the flare. Again, we've done this before, so we can reuse code:\n",
        "\n",
        "\n"
      ]
    },
    {
      "cell_type": "code",
      "metadata": {
        "id": "o5U0iL7_rXAR",
        "outputId": "9f07e90a-af21-40ae-9101-353132713cce",
        "colab": {
          "base_uri": "https://localhost:8080/",
          "height": 290
        }
      },
      "source": [
        "import matplotlib.pyplot as plt\n",
        "\n",
        "plt.plot(solar_data['time (seconds)'], solar_data['longwave (ergs/s)'])\n",
        "plt.ylabel('Power (ergs/s)')\n",
        "plt.xlabel('Time (s)')\n",
        "\n",
        "plt.show()"
      ],
      "execution_count": null,
      "outputs": [
        {
          "output_type": "display_data",
          "data": {
            "image/png": "[encoded data removed]",
            "text/plain": [
              "<Figure size 432x288 with 1 Axes>"
            ]
          },
          "metadata": {
            "tags": [],
            "needs_background": "light"
          }
        }
      ]
    },
    {
      "cell_type": "markdown",
      "metadata": {
        "id": "MrNHESMDQNLW"
      },
      "source": [
        "## Basline correction\n",
        "\n",
        "As you learned in [Week 7 lecture](https://www.youtube.com/watch?v=XlbRg3e4T9g&feature=youtu.be), one of the primary challenges in determining the total energy of the flare is dealing with the \"background.\" The sun is giving off x-rays even before a flare happens, and we do not want to accidentally include the energy of those x-rays as part of the flare energy. As a result, we need to determine the amount of x-ray power being emitted before the flare (the \"baseline\") and subtract it from the observed power during the flare to make sure we are only determining the *new* energy created by the flare itself.\n",
        "\n",
        "Make sure your team has a clear plan for this; refer back to the Week 7 pre-lab lecture, the examples of baseline corrections on the Week 7 Canvas page, or  ask your TA if you need help! \n",
        "\n",
        "Hint:\n",
        "You will want to plot the data from the time period leading up to the flare in order to \"see\" it clearly and to decide on a strategy. For this part, we don't have to care yet about having time in seconds. In fact, it might be easier to leave time in arbitraty \"index\" units (i.e., data point 1, data point 2, data point 3, and so on). That way, it will be easy to discuss which data points you want to focus on. For example, maybe you think the pre-flare background is points 4 through 50. Then you can easily access these data points like this:\n",
        "\n",
        "`solar_data.iloc[4:50,1]`\n"
      ]
    },
    {
      "cell_type": "markdown",
      "metadata": {
        "id": "MucnLZ1A9sKY"
      },
      "source": [
        "By taking the average of the ambient energy before the flare's occurance, and then subtracting that value from the flare data, the baseline correction will be done. That correction is shown over the pre-flare data, and over the data in its entirety. Also shown (by the vertical red lines), are the boundaries of the trapazoidal integration. \n"
      ]
    },
    {
      "cell_type": "code",
      "metadata": {
        "id": "D6pEfNoHQRh3",
        "outputId": "0d37e6d6-5df6-4af2-ecb0-e0c9872de5fc",
        "colab": {
          "base_uri": "https://localhost:8080/",
          "height": 1000
        }
      },
      "source": [
        "import statistics as stats     \n",
        "\n",
        "# You will need to plot your flare (as shown in the examples of baseline corrections notebook)\n",
        "# in order to look at the pre-flare data and show the baseline corrected flare\n",
        "import matplotlib.pyplot as plt\n",
        "plt.plot(solar_data.iloc[400:600,1])\n",
        "plt.title(\"Pre-Flare Data Before Baseline Removal\")\n",
        "avg_baseline = solar_data.iloc[400:600,1].mean()\n",
        "x_coordinates = [400,600]\n",
        "y_coordinates = [avg_baseline, avg_baseline]\n",
        "plt.plot(x_coordinates, y_coordinates, 'm--')\n",
        "plt.show()\n",
        "\n",
        "plt.plot(solar_data.iloc[0:1167,1])\n",
        "plt.title(\"Complete Flare Data Before Baseline Removal\")\n",
        "x_coordinates = [0, 1160]\n",
        "y_coordinates = [avg_baseline, avg_baseline]\n",
        "plt.plot(x_coordinates, y_coordinates, 'm--')\n",
        "plt.show()\n",
        "\n",
        "Solar_data_blremov = solar_data['longwave (ergs/s)'].subtract(avg_baseline)\n",
        "plt.plot(Solar_data_blremov[0:1160])\n",
        "plt.title(\"Solar Data Flare with Baseline Removed\")\n",
        "plt.ylabel(\"Power (ergs/s)\")\n",
        "plt.xlabel(\"Time (arbitrary units)\")\n",
        "plt.axvline(650, color='r')\n",
        "plt.axvline(900,color='r')\n",
        "plt.show()\n",
        "\n",
        "\n",
        "plt.plot(Solar_data_blremov[0:270])\n",
        "plt.title(\"Pre-flare data with Baseline Removed\")\n",
        "plt.ylabel(\"Power (ergs/s)\")\n",
        "plt.xlabel(\"Time (arbitrary units)\")\n",
        "x_coordinates = [0, 270]\n",
        "y_coordinates = [0, 0]\n",
        "plt.plot(x_coordinates, y_coordinates, 'g--')\n",
        "plt.show()"
      ],
      "execution_count": null,
      "outputs": [
        {
          "output_type": "display_data",
          "data": {
            "image/png": "[encoded data removed]",
            "text/plain": [
              "<Figure size 432x288 with 1 Axes>"
            ]
          },
          "metadata": {
            "tags": [],
            "needs_background": "light"
          }
        },
        {
          "output_type": "display_data",
          "data": {
            "image/png": "[encoded data removed]",
            "text/plain": [
              "<Figure size 432x288 with 1 Axes>"
            ]
          },
          "metadata": {
            "tags": [],
            "needs_background": "light"
          }
        },
        {
          "output_type": "display_data",
          "data": {
            "image/png": "[encoded data removed]",
            "text/plain": [
              "<Figure size 432x288 with 1 Axes>"
            ]
          },
          "metadata": {
            "tags": [],
            "needs_background": "light"
          }
        },
        {
          "output_type": "display_data",
          "data": {
            "image/png": "[encoded data removed]",
            "text/plain": [
              "<Figure size 432x288 with 1 Axes>"
            ]
          },
          "metadata": {
            "tags": [],
            "needs_background": "light"
          }
        }
      ]
    },
    {
      "cell_type": "markdown",
      "metadata": {
        "id": "cXwwc4c8Rovi"
      },
      "source": [
        "## Reporting total energy"
      ]
    },
    {
      "cell_type": "markdown",
      "metadata": {
        "id": "sSpQCjBvFGVh"
      },
      "source": [
        "Once you have determined the baseline and subtracted this \"background,\" you are ready to determine the total flare energy. Last week, we did this for a practice flare using a function we called `integrate.trapz`. Use this same function to compute the total energy of your new flare, referring back to your work last week if you need to.\n",
        "\n",
        "Note: As several of our teams learned last week, this function is a little tricky! Make sure to use the appropiate limits for integration by indexing the `x` and `y` variables. You also have to tell it both the y-data AND the x-data to get the integration right (by default, it integrates assuming the x-coordinates are 1, 2, 3, 4, etc.) Be careful with that this week!\n"
      ]
    },
    {
      "cell_type": "markdown",
      "metadata": {
        "id": "NkW2VlIV6yRn"
      },
      "source": [
        "[*Use this markdown cell to describe how you are computing the total energy produced by the flare.*] "
      ]
    },
    {
      "cell_type": "code",
      "metadata": {
        "id": "wURiE2BoR2fg",
        "outputId": "0fae8de2-24ed-408c-a897-b74b3bf48345",
        "colab": {
          "base_uri": "https://localhost:8080/",
          "height": 53
        }
      },
      "source": [
        "#Import the integrate function; we will use trapezoidal integradion ('integreat.trapz')\n",
        "import scipy.integrate as integrate\n",
        "\n",
        "## Write your code here\n",
        "A = integrate.trapz(solar_data.iloc[650:800,1], solar_data.iloc[650:800,0])   \n",
        "\n",
        "print('\\n Total area under the curve: ', A, ' ergs')"
      ],
      "execution_count": null,
      "outputs": [
        {
          "output_type": "stream",
          "text": [
            "\n",
            " Total area under the curve:  1.6281754674458227e+30  ergs\n"
          ],
          "name": "stdout"
        }
      ]
    },
    {
      "cell_type": "markdown",
      "metadata": {
        "id": "9ikX-w_iQlj1"
      },
      "source": [
        "\n",
        "\n",
        "Note! As you may know, every measurement in experimental physics is subject to some  ***uncertainty***. The flare energy is no different-- we don't have time to figure out the uncertainty this week, but we will definitely need to do that before reporting out final results."
      ]
    },
    {
      "cell_type": "markdown",
      "metadata": {
        "id": "gPt7cY5srceC"
      },
      "source": [
        "# **Task 5: Comment, save, and submit**\n",
        "\n",
        "* Comment your code.\n",
        "\n",
        "* Double-check all your code cells have been executed. \n",
        "\n",
        "* Save this file as a PDF, click Print. In the printer dialog box select \"Save as PDF\" as your destination and click \"Save\".  \n",
        "\n",
        "* Double-check that you can see all of the executed code cells, tables, and graphs in the PDF. **IF YOU ARE HAVING TROUBLE PRINTING TO A PDF, PLEASE RUN THE CODE CELL AT THE END OF THE COLAB NOTEBOOK.**\n",
        "\n",
        "* In this Goolge Colab notebook, click on \"Share\" in the upper right-hand corner of the window. \n",
        "\n",
        "<img src=https://i.pinimg.com/originals/8f/c5/ee/8fc5ee91627c0353febe142ff9adde82.png\n",
        " width=\"250\">   \n",
        "\n",
        "* Under \"Get Link\" click on \"Change\". Change the \"Share\" settings so that anyone with the link and be a commenter. \n",
        "\n",
        " <img src=https://i.pinimg.com/originals/83/d5/a0/83d5a060a21b96208814e85a6761693a.png\n",
        " width=\"500\">\n",
        "\n",
        " <img src=https://i.pinimg.com/originals/66/5e/94/665e943a4a0ee20a965f6c89b86f6e47.png\n",
        " width=\"300\">\n",
        "\n",
        "* In Canvas, upload the PDF file as an assignment and copy and paste the link to this notebook as the comment.\n"
      ]
    },
    {
      "cell_type": "markdown",
      "metadata": {
        "id": "ogHNb_Q-Qeur"
      },
      "source": [
        "## Need help converting your colab notebook to a PDF?\n",
        "\n",
        "The following code cell will covert your colab notebook to a PDF. \n",
        "\n",
        ">(1) You will need to first **change the filename** to the name the colab notebook you would like to convert. For example, your colab file for Week 8 and 9 is likely to be called `'Week8and9_DetermingTotalEnergyofFlare.ipynb'`. \n",
        "\n",
        "> (2) You will need to mount your google drive. If your drive is not mounted already, the code cell will prompt you with the steps to do this as it runs.\n",
        "\n",
        "> (3) The PDF will be saved to the same folder as this code cell. You can then download the PDF from google drive and upload it onto Canvas.\n",
        "\n",
        "> (4) If you run into an error saying that the \"list index is out of range\" try two fixes:\n",
        ">> - First, make sure your filename is correct\n",
        ">> - Move your Colab notebook into the main area of the drive instead of having it in a folder."
      ]
    },
    {
      "cell_type": "code",
      "metadata": {
        "id": "oxsMlooyQfkc",
        "outputId": "a85c4321-977f-4b0a-ace3-f6cc98eb96e5",
        "colab": {
          "base_uri": "https://localhost:8080/",
          "height": 389
        }
      },
      "source": [
        "################################################################################\n",
        "#                    CODE TO CONVERT COLAB NOTEBOOK TO PDF                     #\n",
        "#This code converts an .ipynb file to a Tex based PDF and saves it in the Colab#\n",
        "#Notebook folder with the same filename.pdf                                    #\n",
        "################################################################################\n",
        "\n",
        "filename = 'Week8and9_DetermingTotalEnergyofFlare(1)PartTwo.ipynb.' # Ex. 'Coding_Packet.ipynb'\n",
        "\n",
        "################################################################################\n",
        "# Code\n",
        "################################################################################\n",
        "# Imports\n",
        "from google.colab import drive; from datetime import datetime; import sys; import random \n",
        "# To make Watermark distinctive\n",
        "class color:\n",
        "  BLUE = '\\033[94m';GREEN = '\\033[92m';BOLD = '\\033[1m';UNDERLINE = '\\033[4m';END = '\\033[0m';FAIL = '\\033[91m';WARNING = '\\033[93m'\n",
        "now = datetime.now()\n",
        "print(color.UNDERLINE,'Unique Watermark',color.END,'\\U0001F512\\n',color.END)\n",
        "print(color.BOLD,color.BLUE,now.strftime(\"%d/%m/%Y %H:%M:%S\"),\" \",str(random.randrange(1000000, 9999999, 1)),color.END,'\\n')\n",
        "# Mount Drive First to give time for mounting to process\n",
        "drive.mount('/content/gdrive', force_remount = True) \n",
        "# Install some dependences into the RUNTIME (is not local, needs to reinstall every Factory runtime)\n",
        "!pip install IPython >> outputsuppressed.txt\n",
        "!pip install Latex >> outputsuppressed.txt\n",
        "!pip install pandoc >> outputsuppressed.txt\n",
        "!pip install nbconvert >> outputsuppressed.txt\n",
        "!pip install jupyter >> outputsuppressed.txt\n",
        "!apt-get install texlive-xetex texlive-fonts-recommended texlive-generic-recommended >> outputsuppressed.txt\n",
        "# Searches the Google drive directory for the filename and gives back it's \n",
        "# location (This accounts for Wildcards and Spaces in the directory names).\n",
        "# Uses jupyter and nbconvert to convert to a Tex file, then into a pdf \n",
        "print('\\nFinding file. This may take a minute or two depending on the size of your drive...')\n",
        "!IFS=$'\\n' #Sets the reader to only break at newlines instead of spaces, tabs,and newlines\n",
        "loc = !find '/content/gdrive' -name \"{filename}\"\n",
        "# Handle Common Errors\n",
        "try:\n",
        "  fileloc = loc[0]\n",
        "except IndexError as error:\n",
        "  print(color.BOLD,color.FAIL, \"\\nCould not find file in your Drive!\\n\" ,color.END,color.WARNING,\"- Make sure you input the correct filename\\n\",\"  - Make sure the file is saved in the google drive you mounted\\n\\n\",color.END)\n",
        "  Er = str('Error: {}. {}, line: {}'.format(sys.exc_info()[0],sys.exc_info()[1],sys.exc_info()[2].tb_lineno))\n",
        "  f = open(\"ErrorLog.txt\",\"a+\"); f.write(Er); f.close()\n",
        "  sys.tracebacklimit=0\n",
        "  sys.exit(\"Please Try Again\") \n",
        "except Exception as exception:\n",
        "  print(color.BOLD,color.WARNING, \"Exception Occured, Please Check Log\",color.END)\n",
        "  Er = str('Error: {}. {}, line: {}'.format(sys.exc_info()[0],sys.exc_info()[1],sys.exc_info()[2].tb_lineno))\n",
        "  f = open(\"ErrorLog.txt\",\"a+\");f.write(Er);f.close()\n",
        "  sys.tracebacklimit=0\n",
        "  sys.exit(\"Please Try Again\")\n",
        "# Convert the file\n",
        "print('File Location: ',str(fileloc),'\\n')\n",
        "!jupyter nbconvert --to pdf \"{fileloc}\" --log-level ERROR\n",
        "# The PDF will be in the same folder as the original file\n",
        "print(color.GREEN,\"Conversion Complete!\\nGreat Job and Have a Wonderful Day!\"\n",
        "      ,color.END,\"\\U0001F30C\")\n",
        "\n",
        "############ Version Control:\n",
        "# Last Update: 2020-10-18, 1459 - V 1.4 - Thomas Horning\n",
        "# - Error Handling\n",
        "# Created by Thomas Horning"
      ],
      "execution_count": null,
      "outputs": [
        {
          "output_type": "stream",
          "text": [
            "\u001b[4m Unique Watermark \u001b[0m 🔒\n",
            " \u001b[0m\n",
            "\u001b[1m \u001b[94m 24/10/2020 04:21:32   5597375 \u001b[0m \n",
            "\n",
            "Mounted at /content/gdrive\n",
            "\n",
            "Finding file. This may take a minute or two depending on the size of your drive...\n",
            "\u001b[1m \u001b[91m \n",
            "Could not find file in your Drive!\n",
            " \u001b[0m \u001b[93m - Make sure you input the correct filename\n",
            "   - Make sure the file is saved in the google drive you mounted\n",
            "\n",
            " \u001b[0m\n"
          ],
          "name": "stdout"
        },
        {
          "output_type": "error",
          "ename": "SystemExit",
          "evalue": "ignored",
          "traceback": [
            "An exception has occurred, use %tb to see the full traceback.\n",
            "\u001b[0;31mSystemExit\u001b[0m\u001b[0;31m:\u001b[0m Please Try Again\n"
          ]
        },
        {
          "output_type": "stream",
          "text": [
            "/usr/local/lib/python3.6/dist-packages/IPython/core/interactiveshell.py:2890: UserWarning: To exit: use 'exit', 'quit', or Ctrl-D.\n",
            "  warn(\"To exit: use 'exit', 'quit', or Ctrl-D.\", stacklevel=1)\n"
          ],
          "name": "stderr"
        }
      ]
    },
    {
      "cell_type": "code",
      "metadata": {
        "id": "9ewPTdZTvAAW",
        "outputId": "4254cbf6-b514-4f88-ca47-65882317a988",
        "colab": {
          "base_uri": "https://localhost:8080/",
          "height": 35
        }
      },
      "source": [
        "from google.colab import drive\n",
        "drive.mount(\"/content/drive\", force_remount=True)"
      ],
      "execution_count": null,
      "outputs": [
        {
          "output_type": "stream",
          "text": [
            "Mounted at /content/drive\n"
          ],
          "name": "stdout"
        }
      ]
    },
    {
      "cell_type": "markdown",
      "metadata": {
        "id": "ENkEMvazTesz"
      },
      "source": [
        "## **Task 6*: Find more flares!**\n",
        "\n",
        "If time allows, choose another flare from C through X class! Follow the same procedure from above to report the total energy of the flare.\n",
        "\n",
        "As before, make sure to provide a detailed description of the flares, which includes the date and time (in UCT) of the peak of the flare, as well as the subclass (e.g., C5.3) and other descriptive information. "
      ]
    }
  ]
}